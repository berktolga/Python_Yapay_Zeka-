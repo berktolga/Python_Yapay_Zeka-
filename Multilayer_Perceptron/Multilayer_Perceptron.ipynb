{
 "cells": [
  {
   "cell_type": "code",
   "execution_count": null,
   "metadata": {},
   "outputs": [],
   "source": []
  },
  {
   "cell_type": "code",
   "execution_count": 1,
   "metadata": {},
   "outputs": [],
   "source": [
    "import tensorflow as tf\n",
    "from tensorflow.keras.models import Sequential\n",
    "from tensorflow.keras.layers import Flatten\n",
    "from tensorflow.keras.layers import Dense\n",
    "from tensorflow.keras.layers import Activation\n",
    "from keras.layers import Dropout\n",
    "from tensorflow import keras\n",
    "import pydotplus\n",
    "from keras.utils.vis_utils import plot_model"
   ]
  },
  {
   "cell_type": "code",
   "execution_count": 2,
   "metadata": {},
   "outputs": [],
   "source": [
    "import numpy as np\n",
    "import os\n",
    "import matplotlib.pyplot as plt\n",
    "import seaborn as sns\n",
    "from tensorflow.random import set_seed \n",
    "\n",
    "from tensorflow.keras.preprocessing.image import ImageDataGenerator, load_img\n",
    "from tensorflow.python.keras.callbacks import ModelCheckpoint\n",
    "from tensorflow.python.keras import layers, models, Model, optimizers\n",
    "\n",
    "from sklearn.metrics import classification_report, confusion_matrix, accuracy_score"
   ]
  },
  {
   "cell_type": "code",
   "execution_count": 199,
   "metadata": {},
   "outputs": [
    {
     "data": {
      "text/plain": [
       "Text(0.5, 1.0, 'Eğitim bölümündeki 10 rakama ait fotoğraf sayısı:')"
      ]
     },
     "execution_count": 199,
     "metadata": {},
     "output_type": "execute_result"
    },
    {
     "data": {
      "image/png": "[encoded data removed]",
      "text/plain": [
       "<Figure size 432x288 with 1 Axes>"
      ]
     },
     "metadata": {
      "needs_background": "light"
     },
     "output_type": "display_data"
    }
   ],
   "source": [
    "# Eğitim ve test verilerinin \n",
    "train_data_dir = r\"C:\\Users\\ASUS\\Desktop\\Yapay Zeka Ödev\\mnist-train\"\n",
    "test_data_dir = r\"C:\\Users\\ASUS\\Desktop\\Yapay Zeka Ödev\\mnist-test\"\n",
    "category_names = sorted(os.listdir(r\"C:\\Users\\ASUS\\Desktop\\Yapay Zeka Ödev\\mnist-train\"))\n",
    "nb_categories = len(category_names)\n",
    "img_pr_number = []\n",
    "img_pr_number_test = []\n",
    "for category in category_names:\n",
    "    folder = r\"C:\\Users\\ASUS\\Desktop\\Yapay Zeka Ödev\\mnist-train\" + '/' + category\n",
    "    img_pr_number.append(len(os.listdir(folder)))\n",
    "sns.barplot(y=category_names, x=img_pr_number).set_title(\"Eğitim bölümündeki 10 rakama ait fotoğraf sayısı:\")"
   ]
  },
  {
   "cell_type": "code",
   "execution_count": 200,
   "metadata": {},
   "outputs": [
    {
     "data": {
      "text/plain": [
       "Text(0.5, 1.0, 'Test bölümündeki 10 rakama ait fotoğraf sayısı:')"
      ]
     },
     "execution_count": 200,
     "metadata": {},
     "output_type": "execute_result"
    },
    {
     "data": {
      "image/png": "[encoded data removed]",
      "text/plain": [
       "<Figure size 432x288 with 1 Axes>"
      ]
     },
     "metadata": {
      "needs_background": "light"
     },
     "output_type": "display_data"
    }
   ],
   "source": [
    "for category in category_names:\n",
    "    folder2 = r\"C:\\Users\\ASUS\\Desktop\\Yapay Zeka Ödev\\mnist-test\" + '/' + category\n",
    "    img_pr_number_test.append(len(os.listdir(folder2)))\n",
    "sns.barplot(y=category_names, x=img_pr_number_test).set_title(\"Test bölümündeki 10 rakama ait fotoğraf sayısı:\")"
   ]
  },
  {
   "cell_type": "code",
   "execution_count": 201,
   "metadata": {},
   "outputs": [
    {
     "name": "stdout",
     "output_type": "stream",
     "text": [
      "Found 1400 images belonging to 10 classes.\n",
      "Found 600 images belonging to 10 classes.\n",
      "Found 1000 images belonging to 10 classes.\n"
     ]
    }
   ],
   "source": [
    "#Eğitim ve test verilerinin yüklenmesi.\n",
    "\n",
    "#bs=20 #Batch size - Yani 20'li gruplar halinde veriler alınacak.\n",
    "\n",
    "#Bütün fotoğraflar 1/255 oranında yeniden ölçeklendirilecek. \n",
    "train_datagen = ImageDataGenerator( rescale = 1.0/255. ,validation_split=0.3)\n",
    "test_datagen  = ImageDataGenerator( rescale = 1.0/255. )\n",
    "\n",
    "# Flow_from_directory; sınıflandırıcının, görüntünün bulunduğu dizinlerin adından etiketleri doğrudan tanımlamasını sağlar.\n",
    "train_generator=train_datagen.flow_from_directory(train_data_dir,subset='training',class_mode='categorical',batch_size=20,target_size=(128,128))\n",
    "\n",
    "validation_generator =  train_datagen.flow_from_directory(train_data_dir, batch_size=20,\n",
    "                                                         class_mode  = 'categorical',subset='validation',\n",
    "                                                         target_size=(128,128))\n",
    "\n",
    "test_generator=train_datagen.flow_from_directory(test_data_dir,class_mode='categorical',batch_size=20,target_size=(128,128))"
   ]
  },
  {
   "cell_type": "code",
   "execution_count": 202,
   "metadata": {},
   "outputs": [
    {
     "data": {
      "text/plain": [
       "1400"
      ]
     },
     "execution_count": 202,
     "metadata": {},
     "output_type": "execute_result"
    }
   ],
   "source": [
    "train_generator.samples"
   ]
  },
  {
   "cell_type": "code",
   "execution_count": 203,
   "metadata": {},
   "outputs": [
    {
     "data": {
      "text/plain": [
       "70"
      ]
     },
     "execution_count": 203,
     "metadata": {},
     "output_type": "execute_result"
    }
   ],
   "source": [
    "len(train_generator) # İçerisinde 70 adet 20'lik yığınlar var. Batch_size 20 olduğu için."
   ]
  },
  {
   "cell_type": "code",
   "execution_count": 204,
   "metadata": {},
   "outputs": [
    {
     "data": {
      "text/plain": [
       "{'0': 0,\n",
       " '1': 1,\n",
       " '2': 2,\n",
       " '3': 3,\n",
       " '4': 4,\n",
       " '5': 5,\n",
       " '6': 6,\n",
       " '7': 7,\n",
       " '8': 8,\n",
       " '9': 9}"
      ]
     },
     "execution_count": 204,
     "metadata": {},
     "output_type": "execute_result"
    }
   ],
   "source": [
    "train_generator.class_indices"
   ]
  },
  {
   "cell_type": "code",
   "execution_count": null,
   "metadata": {},
   "outputs": [],
   "source": []
  },
  {
   "cell_type": "code",
   "execution_count": 205,
   "metadata": {},
   "outputs": [
    {
     "data": {
      "text/plain": [
       "600"
      ]
     },
     "execution_count": 205,
     "metadata": {},
     "output_type": "execute_result"
    }
   ],
   "source": [
    "validation_generator.samples"
   ]
  },
  {
   "cell_type": "code",
   "execution_count": 206,
   "metadata": {},
   "outputs": [
    {
     "data": {
      "text/plain": [
       "30"
      ]
     },
     "execution_count": 206,
     "metadata": {},
     "output_type": "execute_result"
    }
   ],
   "source": [
    "len(validation_generator) #İçerisinde 30 adet 20'lik yığınlar var.Batch_size 20 olduğu için."
   ]
  },
  {
   "cell_type": "code",
   "execution_count": 207,
   "metadata": {},
   "outputs": [
    {
     "data": {
      "text/plain": [
       "{'0': 0,\n",
       " '1': 1,\n",
       " '2': 2,\n",
       " '3': 3,\n",
       " '4': 4,\n",
       " '5': 5,\n",
       " '6': 6,\n",
       " '7': 7,\n",
       " '8': 8,\n",
       " '9': 9}"
      ]
     },
     "execution_count": 207,
     "metadata": {},
     "output_type": "execute_result"
    }
   ],
   "source": [
    "validation_generator.class_indices"
   ]
  },
  {
   "cell_type": "code",
   "execution_count": null,
   "metadata": {},
   "outputs": [],
   "source": []
  },
  {
   "cell_type": "code",
   "execution_count": 208,
   "metadata": {},
   "outputs": [
    {
     "name": "stdout",
     "output_type": "stream",
     "text": [
      "Train shape=(20, 128, 128, 3), min=0.000, max=1.000\n",
      "Test shape=(20, 128, 128, 3), min=0.000, max=1.000\n"
     ]
    }
   ],
   "source": [
    "# Eğitim verileri ve kategorileri, test verileri ve kategorileri şeklinde bölümleme yapılıyor.\n",
    "\n",
    "X_train, y_train = train_generator.next()\n",
    "print('Train shape=%s, min=%.3f, max=%.3f' % (X_train.shape, X_train.min(), X_train.max()))\n",
    "\n",
    "\n",
    "\n",
    "X_test, y_test = test_generator.next()\n",
    "print('Test shape=%s, min=%.3f, max=%.3f' % (X_test.shape, X_test.min(), X_test.max()))\n",
    "\n",
    "\n",
    "# Her seferinde 20 tane (128 x 128) boyutlu görüntüyü geri döndürecektir çünkü batch_size = 20 olarak ayarlandı."
   ]
  },
  {
   "cell_type": "code",
   "execution_count": null,
   "metadata": {},
   "outputs": [],
   "source": []
  },
  {
   "cell_type": "code",
   "execution_count": 209,
   "metadata": {},
   "outputs": [],
   "source": [
    "model = Sequential([\n",
    "    \n",
    "    #İlk katman. Bu katman ile girdi görüntüsü bir boyutlu diziye dönüşür.\n",
    "    Flatten(input_shape=(128, 128,3)),\n",
    "    \n",
    "    # dense layer 1  - Gizli katman-1\n",
    "    Dense(30, activation='relu'),  \n",
    "    \n",
    "    # dense layer 2  - Gizli katman-2\n",
    "    Dense(20, activation='relu'), \n",
    "    \n",
    "    # dense layer 3  - Gizli katman-3\n",
    "    Dense(30, activation='relu'), \n",
    "    \n",
    "    # output layer - Çıktı katmanı\n",
    "    Dense(10, activation='sigmoid'),  \n",
    "    #10 farklı rakam olduğu için output katmanında 10 düğüm olacak.\n",
    "])"
   ]
  },
  {
   "cell_type": "code",
   "execution_count": 210,
   "metadata": {},
   "outputs": [
    {
     "name": "stdout",
     "output_type": "stream",
     "text": [
      "Model: \"sequential_8\"\n",
      "_________________________________________________________________\n",
      " Layer (type)                Output Shape              Param #   \n",
      "=================================================================\n",
      " flatten_8 (Flatten)         (None, 49152)             0         \n",
      "                                                                 \n",
      " dense_25 (Dense)            (None, 30)                1474590   \n",
      "                                                                 \n",
      " dense_26 (Dense)            (None, 20)                620       \n",
      "                                                                 \n",
      " dense_27 (Dense)            (None, 30)                630       \n",
      "                                                                 \n",
      " dense_28 (Dense)            (None, 10)                310       \n",
      "                                                                 \n",
      "=================================================================\n",
      "Total params: 1,476,150\n",
      "Trainable params: 1,476,150\n",
      "Non-trainable params: 0\n",
      "_________________________________________________________________\n"
     ]
    }
   ],
   "source": [
    "model.summary()"
   ]
  },
  {
   "cell_type": "code",
   "execution_count": 211,
   "metadata": {},
   "outputs": [],
   "source": [
    "model.compile(loss=\"categorical_crossentropy\", optimizer=tf.optimizers.Adam(learning_rate=0.001), metrics = ['accuracy'])"
   ]
  },
  {
   "cell_type": "code",
   "execution_count": 212,
   "metadata": {
    "scrolled": true
   },
   "outputs": [
    {
     "name": "stdout",
     "output_type": "stream",
     "text": [
      "Epoch 1/10\n",
      "70/70 [==============================] - 2s 25ms/step - loss: 1.4228 - accuracy: 0.5350 - val_loss: 0.9727 - val_accuracy: 0.7100\n",
      "Epoch 2/10\n",
      "70/70 [==============================] - 2s 21ms/step - loss: 0.6801 - accuracy: 0.8086 - val_loss: 0.7181 - val_accuracy: 0.7633\n",
      "Epoch 3/10\n",
      "70/70 [==============================] - 2s 22ms/step - loss: 0.4469 - accuracy: 0.8857 - val_loss: 0.7167 - val_accuracy: 0.8100\n",
      "Epoch 4/10\n",
      "70/70 [==============================] - 2s 22ms/step - loss: 0.3237 - accuracy: 0.9100 - val_loss: 0.8033 - val_accuracy: 0.7867\n",
      "Epoch 5/10\n",
      "70/70 [==============================] - 2s 22ms/step - loss: 0.2281 - accuracy: 0.9336 - val_loss: 0.6112 - val_accuracy: 0.8417\n",
      "Epoch 6/10\n",
      "70/70 [==============================] - 2s 28ms/step - loss: 0.1622 - accuracy: 0.9529 - val_loss: 0.7601 - val_accuracy: 0.8133\n",
      "Epoch 7/10\n",
      "70/70 [==============================] - 2s 28ms/step - loss: 0.1305 - accuracy: 0.9643 - val_loss: 0.6441 - val_accuracy: 0.8367\n",
      "Epoch 8/10\n",
      "70/70 [==============================] - 2s 28ms/step - loss: 0.0962 - accuracy: 0.9757 - val_loss: 0.7512 - val_accuracy: 0.8350\n",
      "Epoch 9/10\n",
      "70/70 [==============================] - 2s 30ms/step - loss: 0.0829 - accuracy: 0.9750 - val_loss: 0.6432 - val_accuracy: 0.8500\n",
      "Epoch 10/10\n",
      "70/70 [==============================] - 2s 34ms/step - loss: 0.0880 - accuracy: 0.9707 - val_loss: 0.7099 - val_accuracy: 0.8500\n"
     ]
    }
   ],
   "source": [
    "history2 = model.fit(train_generator,validation_data=validation_generator, epochs=10)"
   ]
  },
  {
   "cell_type": "code",
   "execution_count": null,
   "metadata": {},
   "outputs": [],
   "source": []
  },
  {
   "cell_type": "code",
   "execution_count": 213,
   "metadata": {},
   "outputs": [
    {
     "name": "stdout",
     "output_type": "stream",
     "text": [
      "1/1 [==============================] - 0s 84ms/step - loss: 0.3006 - accuracy: 0.9000\n",
      "Test results - Loss: 0.3006032109260559 - Accuracy: 0.8999999761581421%\n"
     ]
    }
   ],
   "source": [
    "# Eğitim sonrası test\n",
    "test_results = model.evaluate(X_test, y_test, verbose=1)\n",
    "print(f'Test results - Loss: {test_results[0]} - Accuracy: {test_results[1]}%')"
   ]
  },
  {
   "cell_type": "code",
   "execution_count": null,
   "metadata": {},
   "outputs": [],
   "source": []
  },
  {
   "cell_type": "code",
   "execution_count": 184,
   "metadata": {},
   "outputs": [],
   "source": [
    "import pandas as pd"
   ]
  },
  {
   "cell_type": "code",
   "execution_count": 185,
   "metadata": {},
   "outputs": [
    {
     "data": {
      "image/png": "[encoded data removed]",
      "text/plain": [
       "<Figure size 576x360 with 1 Axes>"
      ]
     },
     "metadata": {
      "needs_background": "light"
     },
     "output_type": "display_data"
    }
   ],
   "source": [
    "pd.DataFrame(history2.history).plot(figsize=(8,5))\n",
    "plt.grid(True)\n",
    "plt.gca().set_ylim(0,1)\n",
    "plt.show()"
   ]
  },
  {
   "cell_type": "code",
   "execution_count": null,
   "metadata": {},
   "outputs": [],
   "source": []
  },
  {
   "cell_type": "code",
   "execution_count": 186,
   "metadata": {},
   "outputs": [],
   "source": [
    "from sklearn.metrics import accuracy_score,classification_report,confusion_matrix"
   ]
  },
  {
   "cell_type": "code",
   "execution_count": 187,
   "metadata": {},
   "outputs": [
    {
     "name": "stdout",
     "output_type": "stream",
     "text": [
      "[[3 0 0 0 0 0 0 0]\n",
      " [0 1 0 0 0 0 0 0]\n",
      " [0 0 4 0 0 0 0 0]\n",
      " [0 0 0 1 0 0 0 0]\n",
      " [0 0 0 0 3 0 0 0]\n",
      " [0 0 0 0 0 2 0 0]\n",
      " [0 0 0 0 0 0 2 0]\n",
      " [0 0 0 0 0 1 0 3]]\n"
     ]
    }
   ],
   "source": [
    "y_pred=model.predict(X_test) \n",
    "y_pred=np.argmax(y_pred, axis=1)\n",
    "y_test=np.argmax(y_test, axis=1)\n",
    "cm = confusion_matrix(y_test, y_pred)\n",
    "print(cm)"
   ]
  },
  {
   "cell_type": "code",
   "execution_count": 188,
   "metadata": {},
   "outputs": [
    {
     "name": "stdout",
     "output_type": "stream",
     "text": [
      "              precision    recall  f1-score   support\n",
      "\n",
      "           0       1.00      1.00      1.00         3\n",
      "           1       1.00      1.00      1.00         1\n",
      "           2       1.00      1.00      1.00         4\n",
      "           4       1.00      1.00      1.00         1\n",
      "           5       1.00      1.00      1.00         3\n",
      "           7       0.67      1.00      0.80         2\n",
      "           8       1.00      1.00      1.00         2\n",
      "           9       1.00      0.75      0.86         4\n",
      "\n",
      "    accuracy                           0.95        20\n",
      "   macro avg       0.96      0.97      0.96        20\n",
      "weighted avg       0.97      0.95      0.95        20\n",
      "\n"
     ]
    }
   ],
   "source": [
    "#Test İçin \n",
    "test_report = classification_report(y_test,y_pred)\n",
    "print(test_report)"
   ]
  },
  {
   "cell_type": "code",
   "execution_count": 189,
   "metadata": {},
   "outputs": [],
   "source": [
    "f = open(\"test_report.txt\", \"w\")\n",
    "f.write(test_report)\n",
    "f.close()"
   ]
  },
  {
   "cell_type": "code",
   "execution_count": null,
   "metadata": {},
   "outputs": [],
   "source": []
  },
  {
   "cell_type": "code",
   "execution_count": 190,
   "metadata": {},
   "outputs": [
    {
     "name": "stdout",
     "output_type": "stream",
     "text": [
      "[[3 0 0 0 0 0 0 0]\n",
      " [0 3 0 0 0 0 0 0]\n",
      " [0 0 3 0 0 0 0 0]\n",
      " [0 0 0 1 0 0 0 0]\n",
      " [0 0 0 0 3 0 0 0]\n",
      " [0 0 0 0 0 1 0 0]\n",
      " [0 0 0 0 0 0 3 0]\n",
      " [0 0 0 0 0 0 0 3]]\n"
     ]
    }
   ],
   "source": [
    "x_pred=model.predict(X_train) \n",
    "x_pred=np.argmax(x_pred, axis=1)\n",
    "y_train=np.argmax(y_train, axis=1)\n",
    "cm2 = confusion_matrix(y_train, x_pred)\n",
    "print(cm2)"
   ]
  },
  {
   "cell_type": "code",
   "execution_count": 191,
   "metadata": {},
   "outputs": [
    {
     "name": "stdout",
     "output_type": "stream",
     "text": [
      "              precision    recall  f1-score   support\n",
      "\n",
      "           0       0.00      0.00      0.00         0\n",
      "           1       0.00      0.00      0.00         3\n",
      "           2       0.25      0.33      0.29         3\n",
      "           3       0.00      0.00      0.00         3\n",
      "           4       0.00      0.00      0.00         1\n",
      "           5       0.00      0.00      0.00         3\n",
      "           6       0.00      0.00      0.00         1\n",
      "           7       0.33      0.33      0.33         3\n",
      "           8       0.00      0.00      0.00         0\n",
      "           9       0.00      0.00      0.00         3\n",
      "\n",
      "    accuracy                           0.10        20\n",
      "   macro avg       0.06      0.07      0.06        20\n",
      "weighted avg       0.09      0.10      0.09        20\n",
      "\n"
     ]
    },
    {
     "name": "stderr",
     "output_type": "stream",
     "text": [
      "C:\\Users\\ASUS\\anaconda3\\lib\\site-packages\\sklearn\\metrics\\_classification.py:1221: UndefinedMetricWarning: Precision and F-score are ill-defined and being set to 0.0 in labels with no predicted samples. Use `zero_division` parameter to control this behavior.\n",
      "  _warn_prf(average, modifier, msg_start, len(result))\n",
      "C:\\Users\\ASUS\\anaconda3\\lib\\site-packages\\sklearn\\metrics\\_classification.py:1221: UndefinedMetricWarning: Recall and F-score are ill-defined and being set to 0.0 in labels with no true samples. Use `zero_division` parameter to control this behavior.\n",
      "  _warn_prf(average, modifier, msg_start, len(result))\n"
     ]
    }
   ],
   "source": [
    "#Eğitim için\n",
    "train_report = classification_report(y_train,y_pred)\n",
    "print(train_report)"
   ]
  },
  {
   "cell_type": "code",
   "execution_count": 192,
   "metadata": {},
   "outputs": [],
   "source": [
    "f = open(\"train_report.txt\", \"w\")\n",
    "f.write(train_report)\n",
    "f.close()"
   ]
  },
  {
   "cell_type": "code",
   "execution_count": null,
   "metadata": {},
   "outputs": [],
   "source": []
  },
  {
   "cell_type": "code",
   "execution_count": 193,
   "metadata": {},
   "outputs": [
    {
     "name": "stdout",
     "output_type": "stream",
     "text": [
      "INFO:tensorflow:Assets written to: num.model\\assets\n"
     ]
    }
   ],
   "source": [
    "model.save('num.model')"
   ]
  },
  {
   "cell_type": "code",
   "execution_count": 194,
   "metadata": {},
   "outputs": [],
   "source": [
    "new_model = tf.keras.models.load_model('num.model')"
   ]
  },
  {
   "cell_type": "code",
   "execution_count": 195,
   "metadata": {},
   "outputs": [],
   "source": [
    "predictions = new_model.predict([X_test])"
   ]
  },
  {
   "cell_type": "code",
   "execution_count": 196,
   "metadata": {
    "scrolled": true
   },
   "outputs": [
    {
     "name": "stdout",
     "output_type": "stream",
     "text": [
      "[[9.95011449e-01 8.00149064e-06 3.16493167e-03 1.80127064e-03\n",
      "  9.56343091e-14 1.15271026e-09 2.27733832e-08 1.23119764e-10\n",
      "  1.42369918e-05 5.60927909e-08]\n",
      " [3.47930030e-03 9.12824483e-09 9.92764890e-01 3.25325271e-03\n",
      "  3.16063438e-06 1.71773843e-06 4.61624149e-04 1.18075945e-07\n",
      "  7.32104991e-06 2.85327624e-05]\n",
      " [9.97517109e-01 1.41125201e-05 2.29783962e-03 4.76466630e-05\n",
      "  3.47717477e-09 4.95390168e-07 1.07261531e-06 6.83446677e-09\n",
      "  1.18065924e-04 3.57647559e-06]\n",
      " [2.14614382e-04 9.32087948e-11 9.97395039e-01 3.04213785e-07\n",
      "  5.29385353e-08 1.02294591e-08 1.20533886e-03 2.66182028e-08\n",
      "  1.18464150e-03 5.20641263e-09]\n",
      " [1.08780714e-12 5.02231963e-08 3.09892357e-07 1.22064321e-07\n",
      "  1.01649237e-03 1.78680568e-06 6.16600437e-10 1.04687177e-03\n",
      "  4.90300818e-06 9.97929454e-01]\n",
      " [3.83802080e-06 1.25109494e-14 2.46094856e-09 2.33260398e-08\n",
      "  2.79360354e-01 7.20105827e-01 5.28644712e-04 1.15191461e-10\n",
      "  1.16857609e-06 8.42020071e-08]\n",
      " [1.28591604e-09 6.85374257e-11 7.19693825e-02 3.07413757e-06\n",
      "  7.63070226e-01 9.88565444e-06 3.92740942e-04 3.93750519e-02\n",
      "  1.01419173e-01 2.37603635e-02]\n",
      " [8.31956822e-06 1.50115902e-08 9.98497367e-01 6.37231642e-06\n",
      "  5.82056465e-08 1.14785403e-09 4.30984037e-05 2.17737920e-06\n",
      "  1.44208828e-03 5.22748451e-07]\n",
      " [3.57362057e-10 2.14635775e-20 1.92473659e-11 2.57775138e-17\n",
      "  1.25917243e-09 1.00000000e+00 2.11320007e-11 5.91077954e-14\n",
      "  8.01457123e-10 9.58247912e-13]\n",
      " [4.14318947e-07 5.93196878e-13 2.64049618e-06 9.64379076e-13\n",
      "  1.24730881e-09 5.02200464e-06 5.45262401e-06 6.85649315e-10\n",
      "  9.99986410e-01 1.04539915e-08]\n",
      " [1.64906625e-02 5.79098582e-07 9.81002927e-01 1.09096570e-03\n",
      "  6.37378034e-05 4.28681436e-04 1.49933257e-04 4.30479486e-06\n",
      "  3.70903872e-05 7.31114123e-04]\n",
      " [9.99991298e-01 4.14052579e-08 1.44166625e-08 7.61681986e-06\n",
      "  5.21251174e-13 7.50211484e-08 4.50676885e-10 5.23767210e-11\n",
      "  9.31592069e-07 1.42107465e-10]\n",
      " [9.20964851e-07 7.72996387e-08 1.67368796e-07 2.28894777e-07\n",
      "  1.98084269e-08 9.99991775e-01 4.74290755e-06 5.54153416e-07\n",
      "  1.12443708e-07 1.34875904e-06]\n",
      " [5.14402377e-13 2.02043680e-08 1.12227979e-04 1.64018111e-05\n",
      "  8.38270431e-09 3.91688872e-07 4.07235252e-11 9.99849439e-01\n",
      "  3.64410635e-09 2.14901447e-05]\n",
      " [8.48530609e-19 5.05054852e-12 2.10639026e-08 8.82817708e-10\n",
      "  1.71833797e-10 7.65613549e-07 2.62191646e-18 9.99997973e-01\n",
      "  5.33014713e-13 1.34389359e-06]\n",
      " [1.41993669e-25 5.86010935e-19 6.92186723e-06 1.32587179e-13\n",
      "  3.56811580e-09 2.91148317e-13 3.51212649e-17 9.71455097e-01\n",
      "  3.56217084e-10 2.85379793e-02]\n",
      " [1.30583144e-08 9.85501766e-01 5.05655805e-07 1.32950576e-04\n",
      "  6.43603923e-03 7.56175851e-08 5.13859095e-06 2.42845039e-03\n",
      "  3.93516493e-05 5.45558939e-03]\n",
      " [1.81179139e-12 3.97316740e-07 5.04758527e-11 2.87953270e-07\n",
      "  4.89199720e-02 6.86688054e-06 4.54132183e-11 2.13968000e-04\n",
      "  2.07565540e-06 9.50856507e-01]\n",
      " [2.34914478e-02 7.77641137e-04 8.02581344e-05 4.75733919e-04\n",
      "  8.31390862e-05 1.28745317e-01 1.27186738e-02 3.16503429e-05\n",
      "  8.10640693e-01 2.29554512e-02]\n",
      " [1.51821833e-10 3.32641648e-08 1.14875202e-05 2.67936798e-07\n",
      "  1.05768524e-03 2.95538121e-06 2.05853645e-08 1.20328611e-03\n",
      "  6.45785913e-05 9.97659683e-01]]\n"
     ]
    }
   ],
   "source": [
    "print(predictions)"
   ]
  },
  {
   "cell_type": "code",
   "execution_count": null,
   "metadata": {},
   "outputs": [],
   "source": []
  },
  {
   "cell_type": "code",
   "execution_count": 197,
   "metadata": {},
   "outputs": [
    {
     "name": "stdout",
     "output_type": "stream",
     "text": [
      "0\n"
     ]
    }
   ],
   "source": [
    "print(np.argmax(predictions[0]))"
   ]
  },
  {
   "cell_type": "code",
   "execution_count": 198,
   "metadata": {},
   "outputs": [
    {
     "data": {
      "image/png": "[encoded data removed]",
      "text/plain": [
       "<Figure size 432x288 with 1 Axes>"
      ]
     },
     "metadata": {
      "needs_background": "light"
     },
     "output_type": "display_data"
    }
   ],
   "source": [
    "plt.imshow(X_test[0])\n",
    "plt.show()"
   ]
  },
  {
   "cell_type": "code",
   "execution_count": null,
   "metadata": {},
   "outputs": [],
   "source": []
  },
  {
   "cell_type": "code",
   "execution_count": null,
   "metadata": {},
   "outputs": [],
   "source": []
  }
 ],
 "metadata": {
  "kernelspec": {
   "display_name": "Python 3 (ipykernel)",
   "language": "python",
   "name": "python3"
  },
  "language_info": {
   "codemirror_mode": {
    "name": "ipython",
    "version": 3
   },
   "file_extension": ".py",
   "mimetype": "text/x-python",
   "name": "python",
   "nbconvert_exporter": "python",
   "pygments_lexer": "ipython3",
   "version": "3.11.5"
  }
 },
 "nbformat": 4,
 "nbformat_minor": 4
}
